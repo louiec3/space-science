{
 "cells": [
  {
   "cell_type": "code",
   "execution_count": 23,
   "metadata": {},
   "outputs": [],
   "source": [
    "import spiceypy as sp\n",
    "# https://theskylive.com/venus-info\n",
    "# wrt means With Respect To\n"
   ]
  },
  {
   "cell_type": "code",
   "execution_count": 24,
   "metadata": {},
   "outputs": [
    {
     "name": "stdout",
     "output_type": "stream",
     "text": [
      "Todays date: 2022-12-21T00:00:00\n"
     ]
    }
   ],
   "source": [
    "# Computer position of earth at current time\n",
    "import datetime as dt\n",
    "\n",
    "today_utc = dt.datetime.today()\n",
    "\n",
    "today_utc = today_utc.strftime('%Y-%m-%dT00:00:00')\n",
    "print(f'Todays date: {today_utc}')"
   ]
  },
  {
   "attachments": {},
   "cell_type": "markdown",
   "metadata": {},
   "source": [
    "Error... We need the lsk Leapsecond kernal!\n",
    "\n",
    "Essentially we need to download extra files to work with\n",
    "certain data/missions.\n",
    "These kernals will provide us the correct space-time information for certain bodies in space. \n",
    "\n",
    "We will also need the Earth kernal.\n",
    "spk kernal\n",
    "\n",
    "https://naif.jpl.nasa.gov/pub/naif/generic_kernels"
   ]
  },
  {
   "cell_type": "code",
   "execution_count": 35,
   "metadata": {},
   "outputs": [],
   "source": [
    "# Install the kernals\n",
    "sp.furnsh(r'../kernals/lsk/naif0012.tls') # Earth time\n",
    "sp.furnsh(r'../kernals/spk/de432s.bsp') # Distance of Earth and Sun"
   ]
  },
  {
   "cell_type": "code",
   "execution_count": 26,
   "metadata": {},
   "outputs": [
    {
     "name": "stdout",
     "output_type": "stream",
     "text": [
      "Todays date in Ephemeris time: 724852869.1835989\n"
     ]
    }
   ],
   "source": [
    "# Convert from UTC to Ephemeris time\n",
    "# Ephemeris time: used for space time data\n",
    "# Because time changes in space, this \n",
    "et_today_midnight = sp.str2et(today_utc)\n",
    "print(f'Todays date in Ephemeris time: {et_today_midnight}')"
   ]
  },
  {
   "cell_type": "code",
   "execution_count": 27,
   "metadata": {},
   "outputs": [
    {
     "name": "stdout",
     "output_type": "stream",
     "text": [
      "Earth Position: (3178210.32701914, 147148332.09295017, -7542.353214658797) km\n",
      "Earth Velocity: (-30.27646671436553, 0.5365275625336573,0.0012423384850258623) km/s\n",
      "Time it takes for light to reach Earth: 490.94847764488924 (units?)\n"
     ]
    }
   ],
   "source": [
    "# Compute current position of Earth\n",
    "# Must find the ID of each body\n",
    "# https://naif.jpl.nasa.gov/pub/naif/toolkit_docs/C/req/naif_ids.html\n",
    "# 399; center of Earth\n",
    "# 10; center of the Sun\n",
    "# ECLIPJ2000; ref... the ecliptic plane of Earth\n",
    "earth_vector_wrt_sun, earth_sun_light_time = sp.spkgeo(targ=399, et=et_today_midnight, ref='ECLIPJ2000', obs=10)\n",
    "# earth_state_vector_sun returns the xyz position and xyz velocity\n",
    "\n",
    "print(f'Earth Position: ({earth_vector_wrt_sun[0]}, {earth_vector_wrt_sun[1]}, {earth_vector_wrt_sun[2]}) km')\n",
    "print(f'Earth Velocity: ({earth_vector_wrt_sun[3]}, {earth_vector_wrt_sun[4]},{earth_vector_wrt_sun[5]}) km/s')\n",
    "print(f'Time it takes for light to reach Earth: {earth_sun_light_time} (units?)')"
   ]
  },
  {
   "cell_type": "code",
   "execution_count": 28,
   "metadata": {},
   "outputs": [
    {
     "name": "stdout",
     "output_type": "stream",
     "text": [
      "Earth is 147182650.8645194 km away from the Sun.\n"
     ]
    }
   ],
   "source": [
    "# Distance from Earth to sun\n",
    "from math import sqrt \n",
    "earth_sun_distance = sqrt(\n",
    "earth_vector_wrt_sun[0]**2 \n",
    "+ earth_vector_wrt_sun[1]**2\n",
    "+ earth_vector_wrt_sun[2]**2)\n",
    "print(f'Earth is {earth_sun_distance} km away from the Sun.')"
   ]
  },
  {
   "cell_type": "code",
   "execution_count": 29,
   "metadata": {},
   "outputs": [
    {
     "name": "stdout",
     "output_type": "stream",
     "text": [
      "Earth is 0.9838552531579384 AU away from the Sun.\n"
     ]
    }
   ],
   "source": [
    "# Convert to Astronomical Units (AU)\n",
    "earth_sun_distance_au = sp.convrt(earth_sun_distance, 'km', 'au')\n",
    "print(f'Earth is {earth_sun_distance_au} AU away from the Sun.')"
   ]
  },
  {
   "cell_type": "code",
   "execution_count": 30,
   "metadata": {},
   "outputs": [
    {
     "name": "stdout",
     "output_type": "stream",
     "text": [
      "Earth is traveling at 30.28122025405923 km/s\n"
     ]
    }
   ],
   "source": [
    "import numpy as np\n",
    "\n",
    "# Convert list to numpy array\n",
    "earth_state_wrt_sun = np.array(earth_vector_wrt_sun)\n",
    "\n",
    "# Distance of the Earth to the Sun using numpy linear algebra function\n",
    "earth_sun_distance = np.linalg.norm(earth_state_wrt_sun[:3])\n",
    "\n",
    "# First, we compute the actual orbital speed of the Earth around the Sun\n",
    "earth_orbital_speed_wrt_sun = np.linalg.norm(earth_state_wrt_sun[3:])\n",
    "print(f'Earth is traveling at {earth_orbital_speed_wrt_sun} km/s') "
   ]
  },
  {
   "cell_type": "code",
   "execution_count": 46,
   "metadata": {},
   "outputs": [
    {
     "name": "stdout",
     "output_type": "stream",
     "text": [
      "Theoretical orbital speed of the Earth around Sun: 30.028076027046918 km/s\n"
     ]
    }
   ],
   "source": [
    "# Prove the velocity of Earth\n",
    "# Now let's compute the theoretical expectation. \n",
    "# First, we load a pck file that contains\n",
    "# miscellanoeus information, like the G*M values for different objects\n",
    "\n",
    "# Fetch the mass of the sun\n",
    "sp.furnsh(r'../kernals/pck/gm_de431.tpc')\n",
    "_, GM_SUN = sp.bodvcd(bodyid=10, item='GM', maxn=1) \n",
    "\n",
    "# Compute the orbital speed\n",
    "vel_orbital_func = lambda Gm, r: np.sqrt(Gm/r)\n",
    "earth_orbital_speed_wrt_sun_theoretical = vel_orbital_func(GM_SUN[0], earth_sun_distance)\n",
    "print(f'Theoretical orbital speed of the Earth around Sun: {earth_orbital_speed_wrt_sun_theoretical} km/s')"
   ]
  },
  {
   "cell_type": "code",
   "execution_count": 38,
   "metadata": {},
   "outputs": [
    {
     "name": "stdout",
     "output_type": "stream",
     "text": [
      "[ 2.15936478e-02  9.99766829e-01 -5.12448524e-05]\n"
     ]
    }
   ],
   "source": [
    "# A second check:\n",
    "# The angular difference between the autumn equinox and today's position vector of the Earth\n",
    "# (in this tutorial October) should be in degrees the number of days passed the 22th September.\n",
    "# Again please note: we use the \"today\" function to determine the Earth's state vector.\n",
    "# Now the \"autumn vector\" is simpley (1, 0, 0) in ECLIPJ2000 and we use this as a quick and simple\n",
    "# rough estimation / computation\n",
    "\n",
    "# Position vector\n",
    "earth_position_wrt_sun = earth_state_wrt_sun[:3]\n",
    "\n",
    "# Normalize it\n",
    "earth_position_wrt_sun_norm = earth_position_wrt_sun / earth_sun_distance\n",
    "print(earth_position_wrt_sun_norm)\n",
    "\n",
    "# Define the \"autumn vector\" of the Earth\n",
    "earth_position_wrt_sun_norm_autumn = np.array([1.0,0.0,0.0])"
   ]
  },
  {
   "cell_type": "code",
   "execution_count": 44,
   "metadata": {},
   "outputs": [
    {
     "name": "stdout",
     "output_type": "stream",
     "text": [
      "Angular distance between autumn and todays position (2022-12-21T00:00:00) in degrees: 88.76267894578662\n"
     ]
    }
   ],
   "source": [
    "angular_distance_deg = np.degrees(np.arccos(\n",
    "                        np.dot(earth_position_wrt_sun_norm, \n",
    "                        earth_position_wrt_sun_norm_autumn)))\n",
    "print(f'Angular distance between autumn and todays position ({today_utc}) in degrees: {angular_distance_deg}')"
   ]
  },
  {
   "cell_type": "code",
   "execution_count": null,
   "metadata": {},
   "outputs": [],
   "source": []
  }
 ],
 "metadata": {
  "kernelspec": {
   "display_name": "space-science",
   "language": "python",
   "name": "python3"
  },
  "language_info": {
   "codemirror_mode": {
    "name": "ipython",
    "version": 3
   },
   "file_extension": ".py",
   "mimetype": "text/x-python",
   "name": "python",
   "nbconvert_exporter": "python",
   "pygments_lexer": "ipython3",
   "version": "3.10.2 (tags/v3.10.2:a58ebcc, Jan 17 2022, 14:12:15) [MSC v.1929 64 bit (AMD64)]"
  },
  "orig_nbformat": 4,
  "vscode": {
   "interpreter": {
    "hash": "e39d89cf6a7fe52c12a901aeecb6ee5fb8a5e6d079257299c94b926ee1f34038"
   }
  }
 },
 "nbformat": 4,
 "nbformat_minor": 2
}

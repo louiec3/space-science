{
 "cells": [
  {
   "cell_type": "code",
   "execution_count": 2,
   "metadata": {},
   "outputs": [],
   "source": [
    "import spiceypy as sp\n",
    "# https://theskylive.com/venus-info\n"
   ]
  },
  {
   "cell_type": "code",
   "execution_count": 3,
   "metadata": {},
   "outputs": [
    {
     "name": "stdout",
     "output_type": "stream",
     "text": [
      "2022-12-21T00:00:00\n"
     ]
    }
   ],
   "source": [
    "# Computer position of earth at current time\n",
    "import datetime as dt\n",
    "\n",
    "today_utc = dt.datetime.today()\n",
    "\n",
    "today_utc = today_utc.strftime('%Y-%m-%dT00:00:00')\n",
    "print(today_utc)"
   ]
  },
  {
   "attachments": {},
   "cell_type": "markdown",
   "metadata": {},
   "source": [
    "Error... We need the lsk Leapsecond kernal!\n",
    "\n",
    "Essentially we need to download extra files to work with\n",
    "certain data/missions.\n",
    "These kernals will provide us the correct space-time information for certain bodies in space. \n",
    "\n",
    "We will also need the Earth kernal.\n",
    "spk kernal\n",
    "\n",
    "https://naif.jpl.nasa.gov/pub/naif/generic_kernels"
   ]
  },
  {
   "cell_type": "code",
   "execution_count": 4,
   "metadata": {},
   "outputs": [],
   "source": [
    "# Install the kernals\n",
    "sp.furnsh(r'../kernals/lsk/naif0012.tls')\n",
    "sp.furnsh(r'../kernals/spk/de432s.bsp')"
   ]
  },
  {
   "cell_type": "code",
   "execution_count": 5,
   "metadata": {},
   "outputs": [
    {
     "name": "stdout",
     "output_type": "stream",
     "text": [
      "724852869.1835989\n"
     ]
    }
   ],
   "source": [
    "# Convert from UTC to Ephemeris time\n",
    "# Ephemeris time: used for space time data\n",
    "# Because time changes in space, this \n",
    "et_today_midnight = sp.str2et(today_utc)\n",
    "print(et_today_midnight)"
   ]
  },
  {
   "cell_type": "code",
   "execution_count": 9,
   "metadata": {},
   "outputs": [
    {
     "name": "stdout",
     "output_type": "stream",
     "text": [
      "Earth Position: (3178210.32701914, 147148332.09295017, -7542.353214658797) km\n",
      "Earth Velocity: (-30.27646671436553, 0.5365275625336573,0.0012423384850258623) km/s\n",
      "Time it takes for light to reach Earth: 490.94847764488924 (units?)\n"
     ]
    }
   ],
   "source": [
    "# Compute current position of Earth\n",
    "# Must find the ID of each body\n",
    "# https://naif.jpl.nasa.gov/pub/naif/toolkit_docs/C/req/naif_ids.html\n",
    "# 399; center of Earth\n",
    "# 10; center of the Sun\n",
    "# ECLIPJ2000; ref... the ecliptic plane of Earth\n",
    "earth_state_wrt_sun, earth_sun_light_time = sp.spkgeo(targ=399, et=et_today_midnight, ref='ECLIPJ2000', obs=10)\n",
    "# earth_state_vector_sun returns the xyz position and xyz velocity\n",
    "\n",
    "print(f'Earth Position: ({earth_state_wrt_sun[0]}, {earth_state_wrt_sun[1]}, {earth_state_wrt_sun[2]}) km')\n",
    "print(f'Earth Velocity: ({earth_state_wrt_sun[3]}, {earth_state_wrt_sun[4]},{earth_state_wrt_sun[5]}) km/s')\n",
    "print(f'Time it takes for light to reach Earth: {earth_sun_light_time} (units?)')"
   ]
  },
  {
   "cell_type": "code",
   "execution_count": 7,
   "metadata": {},
   "outputs": [
    {
     "name": "stdout",
     "output_type": "stream",
     "text": [
      "Earth is 147182650.6712404 km away from the Sun.\n"
     ]
    }
   ],
   "source": [
    "# Distance from Earth to sun\n",
    "from math import sqrt \n",
    "earth_sun_distance = sqrt(earth_state_wrt_sun[0]**2 \n",
    "+ earth_state_wrt_sun[1]**2\n",
    "+ earth_state_wrt_sun[2])\n",
    "print(f'Earth is {earth_sun_distance} km away from the Sun.')"
   ]
  },
  {
   "cell_type": "code",
   "execution_count": 8,
   "metadata": {},
   "outputs": [
    {
     "name": "stdout",
     "output_type": "stream",
     "text": [
      "Earth is 0.9838552518659481 AU away from the Sun.\n"
     ]
    }
   ],
   "source": [
    "# Convert to Astronomical Units (AU)\n",
    "earth_sun_distance_au = sp.convrt(earth_sun_distance, 'km', 'au')\n",
    "print(f'Earth is {earth_sun_distance_au} AU away from the Sun.')"
   ]
  },
  {
   "cell_type": "code",
   "execution_count": null,
   "metadata": {},
   "outputs": [],
   "source": []
  }
 ],
 "metadata": {
  "kernelspec": {
   "display_name": "space-science",
   "language": "python",
   "name": "python3"
  },
  "language_info": {
   "codemirror_mode": {
    "name": "ipython",
    "version": 3
   },
   "file_extension": ".py",
   "mimetype": "text/x-python",
   "name": "python",
   "nbconvert_exporter": "python",
   "pygments_lexer": "ipython3",
   "version": "3.10.2"
  },
  "orig_nbformat": 4,
  "vscode": {
   "interpreter": {
    "hash": "f014998252dbbb73934b6a1381e91967208d4dcf1e8525935a2dfcd16aaedb4d"
   }
  }
 },
 "nbformat": 4,
 "nbformat_minor": 2
}
